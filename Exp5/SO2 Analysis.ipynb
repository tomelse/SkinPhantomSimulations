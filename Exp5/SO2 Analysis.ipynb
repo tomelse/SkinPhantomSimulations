{
 "cells": [
  {
   "cell_type": "markdown",
   "metadata": {},
   "source": [
    "# Analysis of the effect of $SO_2$ on quantification of $SO_2^{\\text{Unmixed}}$\n",
    "\n",
    "## Initial processing of the experimental results"
   ]
  },
  {
   "cell_type": "code",
   "execution_count": 2,
   "metadata": {},
   "outputs": [],
   "source": [
    "import numpy as np\n",
    "import pandas as pd\n",
    "import matplotlib.pyplot as plt\n",
    "import matplotlib\n",
    "\n",
    "from pymcx import read_output_file, load_mcx_settings\n",
    "from spectra import blood_mu_a, melanosome_mu_a, water_mu_a\n",
    "\n",
    "matplotlib.rcParams['figure.figsize'] = (4,4)\n",
    "matplotlib.rcParams.update({'font.size': 18})"
   ]
  },
  {
   "cell_type": "markdown",
   "metadata": {},
   "source": [
    "Load the list of parameters run and the files containing the output and settings files. The constant variables are removed for the summary tables."
   ]
  },
  {
   "cell_type": "code",
   "execution_count": 3,
   "metadata": {},
   "outputs": [
    {
     "data": {
      "text/html": [
       "<div>\n",
       "<style scoped>\n",
       "    .dataframe tbody tr th:only-of-type {\n",
       "        vertical-align: middle;\n",
       "    }\n",
       "\n",
       "    .dataframe tbody tr th {\n",
       "        vertical-align: top;\n",
       "    }\n",
       "\n",
       "    .dataframe thead th {\n",
       "        text-align: right;\n",
       "    }\n",
       "</style>\n",
       "<table border=\"1\" class=\"dataframe\">\n",
       "  <thead>\n",
       "    <tr style=\"text-align: right;\">\n",
       "      <th></th>\n",
       "      <th>SO2</th>\n",
       "      <th>Wavelength</th>\n",
       "      <th>OutputFile</th>\n",
       "      <th>SettingsFile</th>\n",
       "    </tr>\n",
       "  </thead>\n",
       "  <tbody>\n",
       "    <tr>\n",
       "      <th>21</th>\n",
       "      <td>0.0</td>\n",
       "      <td>7.000000e-07</td>\n",
       "      <td>result_0_01_00.mc2</td>\n",
       "      <td>settings_0_01_00.json</td>\n",
       "    </tr>\n",
       "    <tr>\n",
       "      <th>22</th>\n",
       "      <td>0.0</td>\n",
       "      <td>7.100000e-07</td>\n",
       "      <td>result_0_01_01.mc2</td>\n",
       "      <td>settings_0_01_01.json</td>\n",
       "    </tr>\n",
       "    <tr>\n",
       "      <th>23</th>\n",
       "      <td>0.0</td>\n",
       "      <td>7.200000e-07</td>\n",
       "      <td>result_0_01_02.mc2</td>\n",
       "      <td>settings_0_01_02.json</td>\n",
       "    </tr>\n",
       "    <tr>\n",
       "      <th>24</th>\n",
       "      <td>0.0</td>\n",
       "      <td>7.300000e-07</td>\n",
       "      <td>result_0_01_03.mc2</td>\n",
       "      <td>settings_0_01_03.json</td>\n",
       "    </tr>\n",
       "    <tr>\n",
       "      <th>25</th>\n",
       "      <td>0.0</td>\n",
       "      <td>7.400000e-07</td>\n",
       "      <td>result_0_01_04.mc2</td>\n",
       "      <td>settings_0_01_04.json</td>\n",
       "    </tr>\n",
       "    <tr>\n",
       "      <th>...</th>\n",
       "      <td>...</td>\n",
       "      <td>...</td>\n",
       "      <td>...</td>\n",
       "      <td>...</td>\n",
       "    </tr>\n",
       "    <tr>\n",
       "      <th>247</th>\n",
       "      <td>1.0</td>\n",
       "      <td>8.600000e-07</td>\n",
       "      <td>result_0_11_16.mc2</td>\n",
       "      <td>settings_0_11_16.json</td>\n",
       "    </tr>\n",
       "    <tr>\n",
       "      <th>248</th>\n",
       "      <td>1.0</td>\n",
       "      <td>8.700000e-07</td>\n",
       "      <td>result_0_11_17.mc2</td>\n",
       "      <td>settings_0_11_17.json</td>\n",
       "    </tr>\n",
       "    <tr>\n",
       "      <th>249</th>\n",
       "      <td>1.0</td>\n",
       "      <td>8.800000e-07</td>\n",
       "      <td>result_0_11_18.mc2</td>\n",
       "      <td>settings_0_11_18.json</td>\n",
       "    </tr>\n",
       "    <tr>\n",
       "      <th>250</th>\n",
       "      <td>1.0</td>\n",
       "      <td>8.900000e-07</td>\n",
       "      <td>result_0_11_19.mc2</td>\n",
       "      <td>settings_0_11_19.json</td>\n",
       "    </tr>\n",
       "    <tr>\n",
       "      <th>251</th>\n",
       "      <td>1.0</td>\n",
       "      <td>9.000000e-07</td>\n",
       "      <td>result_0_11_20.mc2</td>\n",
       "      <td>settings_0_11_20.json</td>\n",
       "    </tr>\n",
       "  </tbody>\n",
       "</table>\n",
       "<p>126 rows × 4 columns</p>\n",
       "</div>"
      ],
      "text/plain": [
       "     SO2    Wavelength          OutputFile           SettingsFile\n",
       "21   0.0  7.000000e-07  result_0_01_00.mc2  settings_0_01_00.json\n",
       "22   0.0  7.100000e-07  result_0_01_01.mc2  settings_0_01_01.json\n",
       "23   0.0  7.200000e-07  result_0_01_02.mc2  settings_0_01_02.json\n",
       "24   0.0  7.300000e-07  result_0_01_03.mc2  settings_0_01_03.json\n",
       "25   0.0  7.400000e-07  result_0_01_04.mc2  settings_0_01_04.json\n",
       "..   ...           ...                 ...                    ...\n",
       "247  1.0  8.600000e-07  result_0_11_16.mc2  settings_0_11_16.json\n",
       "248  1.0  8.700000e-07  result_0_11_17.mc2  settings_0_11_17.json\n",
       "249  1.0  8.800000e-07  result_0_11_18.mc2  settings_0_11_18.json\n",
       "250  1.0  8.900000e-07  result_0_11_19.mc2  settings_0_11_19.json\n",
       "251  1.0  9.000000e-07  result_0_11_20.mc2  settings_0_11_20.json\n",
       "\n",
       "[126 rows x 4 columns]"
      ]
     },
     "execution_count": 3,
     "metadata": {},
     "output_type": "execute_result"
    }
   ],
   "source": [
    "parameters = pd.read_csv(\"params.csv\", index_col=0)\n",
    "# Simulations were run for a couple of different melanin concentrations.\n",
    "parameters = parameters[parameters[\"Melanin\"]==0.01]\n",
    "parameters.loc[:, parameters.nunique()>1]"
   ]
  },
  {
   "cell_type": "code",
   "execution_count": 4,
   "metadata": {
    "scrolled": true
   },
   "outputs": [
    {
     "data": {
      "image/png": "[encoded data removed]",
      "text/plain": [
       "<Figure size 288x288 with 1 Axes>"
      ]
     },
     "metadata": {
      "needs_background": "light"
     },
     "output_type": "display_data"
    }
   ],
   "source": [
    "# View the phantom\n",
    "settings = parameters[\"SettingsFile\"].iloc[0]\n",
    "volfile = parameters[\"VolumeFile\"].iloc[0]\n",
    "\n",
    "# Load the phantom settings.\n",
    "mcx_settings = load_mcx_settings(settings)\n",
    "dimension = tuple(mcx_settings[\"Domain\"][\"Dim\"])\n",
    "volume = np.fromfile(volfile, dtype=\"uint8\").reshape(dimension + (-1,), order=\"F\")\n",
    "\n",
    "# Visualise the computational phantom.\n",
    "cmap = matplotlib.colors.ListedColormap([(1,1,1), (163/255, 113/255, 38/255), (1, 0.8, 0.8), (1,0,0)])\n",
    "plt.imshow(volume[:, 100, :, 0].T, cmap=cmap)\n",
    "plt.title(\"Computational Phantom\")\n",
    "plt.axis(\"off\")\n",
    "plt.show()\n",
    "\n",
    "# Get an array containing the different sections of the phantom, so we can find the spectra across different regions.\n",
    "volume_numbered = volume[:, 100, :, 0]\n",
    "# Labels for each region.\n",
    "regions = [\"Outside\", \"Coupling Layer\", \"Epidermis\", \"Background\", \"Vessel\"]"
   ]
  },
  {
   "cell_type": "markdown",
   "metadata": {},
   "source": [
    "Load the simulated results, convert to a two-dimensional slice."
   ]
  },
  {
   "cell_type": "code",
   "execution_count": null,
   "metadata": {},
   "outputs": [],
   "source": [
    "ms_results = []\n",
    "# Define in the independent variable which is varied in the experiment.\n",
    "variable = \"SO2\"\n",
    "labels = parameters[variable].unique()\n",
    "for dep_variable in labels:\n",
    "    selection = parameters[parameters[variable] == dep_variable]\n",
    "    test = np.zeros((200, 200, 21), order=\"F\")\n",
    "    for i, (result_file, settings_file) in enumerate(zip(selection[\"OutputFile\"], selection[\"SettingsFile\"])):\n",
    "        settings = load_mcx_settings(settings_file)\n",
    "        result = read_output_file(result_file, settings)\n",
    "        test[:, :, i] = np.sum(result[:, 90:110, :, 0], axis=1)\n",
    "        # test[:, :, i] = result[:, 100, :, 0]\n",
    "    ms_results.append(test)"
   ]
  },
  {
   "cell_type": "markdown",
   "metadata": {},
   "source": [
    "## Total energy absorption over the blood vessel averaged over wavelength"
   ]
  },
  {
   "cell_type": "code",
   "execution_count": null,
   "metadata": {},
   "outputs": [],
   "source": [
    "labels = parameters[variable].unique()\n",
    "for s, label in zip(ms_results, labels):\n",
    "    plt.hist(np.mean(s[volume_numbered == 4], axis=1), bins=50, label=label)\n",
    "plt.xlabel(\"Energy Absorption\")\n",
    "plt.ylabel(\"Count\")\n",
    "plt.legend()\n",
    "plt.show()\n",
    "plt.boxplot([np.mean(s[volume_numbered == 4]/1000, axis=1) for s in ms_results], showfliers=False, labels=labels)\n",
    "plt.xlabel(\"$SO_2$\")\n",
    "plt.ylabel(\"Energy Absorption\")\n",
    "plt.ylim([0,None])\n",
    "plt.tight_layout()\n",
    "plt.savefig(\"../FiguresOutput/so2_energy_box.png\")\n",
    "plt.show()"
   ]
  },
  {
   "cell_type": "code",
   "execution_count": null,
   "metadata": {},
   "outputs": [],
   "source": [
    "# Calculate the mean absorption spectra over the entire blood vessel over the independent variable.\n",
    "n_thing = 65\n",
    "mean_specs = [np.mean(result[volume_numbered == 4], axis=0) for result in ms_results]\n",
    "\n",
    "wavelengths = parameters[\"Wavelength\"].unique()\n",
    "for spec, label in zip(mean_specs, labels):\n",
    "    plt.plot(1e9*wavelengths, spec/np.mean(spec), label=label)\n",
    "\n",
    "expected = blood_mu_a(wavelengths, 1)\n",
    "plt.plot(wavelengths*1e9, expected/np.mean(expected), \"--\", c=\"k\", alpha=0.7)\n",
    "\n",
    "expected = blood_mu_a(wavelengths, 0)\n",
    "plt.plot(wavelengths*1e9, expected/np.mean(expected), \":\", c=\"k\", alpha=0.7)\n",
    "    \n",
    "plt.xlabel(\"Wavelength / nm\")\n",
    "plt.ylabel(\"Normalised Absorption\")\n",
    "plt.tight_layout()\n",
    "plt.savefig(\"../FiguresOutput/so2_abs_spec.png\")\n",
    "plt.show()\n",
    "\n",
    "plt.imshow(volume_numbered== 4)\n",
    "plt.show()"
   ]
  },
  {
   "cell_type": "markdown",
   "metadata": {},
   "source": [
    "# Spectral Unmixing"
   ]
  },
  {
   "cell_type": "code",
   "execution_count": null,
   "metadata": {},
   "outputs": [],
   "source": [
    "# Load the basis spectra\n",
    "hb = blood_mu_a(wavelengths, 0, water = False)\n",
    "hbo2 = blood_mu_a(wavelengths, 1, water = False)\n",
    "water = water_mu_a(wavelengths)\n",
    "melanin = melanosome_mu_a(wavelengths)\n",
    "test = np.ones_like(wavelengths)\n",
    "\n",
    "# Calculate the forward and (pseudo)-inverse matrices\n",
    "#spectra_matrix = np.array([hb, hbo2, water, melanin]).T\n",
    "spectra_matrix = np.array([hb, hbo2, water, melanin]).T\n",
    "inv_matrix = np.linalg.pinv(spectra_matrix)\n",
    "\n",
    "# Apply the unmixing matrix\n",
    "unmixed = [np.dot(result, inv_matrix.T) for result in ms_results]\n",
    "so2 = [M[:, :, 1]/(M[:, :, 1] + M[:, :, 0]) for M in unmixed]\n",
    "THb = [M[:, :, 1]+M[:, :, 0] for M in unmixed]"
   ]
  },
  {
   "cell_type": "code",
   "execution_count": null,
   "metadata": {},
   "outputs": [],
   "source": [
    "total = THb[5]\n",
    "\n",
    "# Choose a region of interest in which \n",
    "ROI = (volume_numbered == 4) \n",
    "\n",
    "for s, label, thb in zip(so2, labels, THb):\n",
    "    plt.hist(s[ROI*(thb>0.4)], bins=50, range=(-1, 1.1),\n",
    "             label=label, density=True, alpha=0.5)\n",
    "plt.xlabel(\"Measured $SO_2$\")\n",
    "plt.ylabel(\"Count\")\n",
    "plt.tight_layout()\n",
    "plt.savefig(\"../FiguresOutput/so2_so2_hist.png\")\n",
    "plt.show()\n",
    "\n",
    "\n",
    "plt.boxplot([s[ROI] for s,t in zip(so2,THb)],labels=labels, showfliers=False)\n",
    "plt.xlabel(\"Actual $SO_2$\")\n",
    "plt.ylabel(\"Measured $SO_2$\")\n",
    "plt.ylim(-1,1.1)\n",
    "plt.tight_layout()\n",
    "plt.savefig(\"../FiguresOutput/so2_so2_box.png\")\n",
    "plt.show()\n",
    "\n",
    "plt.boxplot([t[ROI] for s,t in zip(so2,THb)],labels=labels, showfliers=False)\n",
    "plt.xlabel(\"Actual $SO_2$\")\n",
    "plt.ylabel(\"THb\")\n",
    "plt.tight_layout()\n",
    "plt.savefig(\"../FiguresOutput/so2_THb_box.png\")\n",
    "plt.show()\n",
    "\n",
    "\n",
    "plt.imshow(ROI.astype('int8'))\n",
    "plt.title(\"Region of Interest\")\n",
    "plt.colorbar()\n",
    "plt.axis(\"off\")\n",
    "plt.show()"
   ]
  },
  {
   "cell_type": "code",
   "execution_count": null,
   "metadata": {},
   "outputs": [],
   "source": [
    "plt.imshow(THb[0])\n",
    "plt.colorbar()\n",
    "plt.axis(\"off\")\n",
    "plt.title(\"Total Haemoglobin\")\n",
    "plt.show()\n",
    "plt.plot(THb[0][100, 55:])\n",
    "plt.show()"
   ]
  },
  {
   "cell_type": "code",
   "execution_count": null,
   "metadata": {},
   "outputs": [],
   "source": [
    "n=-1\n",
    "# SO2\n",
    "plt.imshow(so2[n], cmap=\"YlOrRd\", clim=(-1,2))\n",
    "plt.colorbar()\n",
    "plt.axis(\"off\")\n",
    "plt.show()\n",
    "# HbO2\n",
    "plt.imshow(unmixed[n][:, :, 1], cmap=\"Reds\")\n",
    "plt.colorbar()\n",
    "plt.axis(\"off\")\n",
    "plt.show()\n",
    "# Hb\n",
    "plt.imshow(unmixed[n][:, :, 0], cmap=\"Purples\")\n",
    "plt.colorbar()\n",
    "plt.axis(\"off\")\n",
    "plt.show()\n",
    "# Water\n",
    "plt.imshow(unmixed[n][:, :, 2], cmap=\"Blues\")\n",
    "plt.colorbar()\n",
    "plt.axis(\"off\")\n",
    "plt.show()\n",
    "# Melanin\n",
    "plt.imshow(unmixed[n][:, :, 3], cmap=\"Oranges\")\n",
    "plt.colorbar()\n",
    "plt.axis(\"off\")\n",
    "plt.show()"
   ]
  }
 ],
 "metadata": {
  "kernelspec": {
   "display_name": "Python 3",
   "language": "python",
   "name": "python3"
  },
  "language_info": {
   "codemirror_mode": {
    "name": "ipython",
    "version": 3
   },
   "file_extension": ".py",
   "mimetype": "text/x-python",
   "name": "python",
   "nbconvert_exporter": "python",
   "pygments_lexer": "ipython3",
   "version": "3.7.6"
  }
 },
 "nbformat": 4,
 "nbformat_minor": 4
}
