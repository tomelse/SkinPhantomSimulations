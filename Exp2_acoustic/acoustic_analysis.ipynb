{
 "cells": [
  {
   "cell_type": "markdown",
   "metadata": {},
   "source": [
    "# Analysis of Acoustic Data"
   ]
  },
  {
   "cell_type": "code",
   "execution_count": 134,
   "metadata": {},
   "outputs": [],
   "source": [
    "import glob\n",
    "import visionpy.io.load_kwave as lk\n",
    "import matplotlib.pyplot as plt\n",
    "import numpy as np\n",
    "from visionpy.recon.backproject import circle_backproject\n",
    "from visionpy.recon.utils import FieldOfView2D, interpolate_line\n",
    "from pymcx import load_mcx_settings\n",
    "import os\n",
    "import pandas as pd\n",
    "import matplotlib\n",
    "\n",
    "from spectra import blood_mu_a, melanosome_mu_a, water_mu_a\n",
    "\n",
    "matplotlib.rcParams['figure.figsize'] = (4,4)\n",
    "matplotlib.rcParams.update({'font.size': 18})"
   ]
  },
  {
   "cell_type": "code",
   "execution_count": 135,
   "metadata": {},
   "outputs": [],
   "source": [
    "parameters = pd.read_csv(\"../Exp1/params.csv\", index_col=0)\n",
    "parameters.loc[:, parameters.nunique()>1]\n",
    "\n",
    "# View the phantom\n",
    "settings = os.path.join(\"../Exp1\", parameters[\"SettingsFile\"].iloc[0])\n",
    "volfile = os.path.join(\"../Exp1\", parameters[\"VolumeFile\"].iloc[0])\n",
    "\n",
    "# Load the phantom settings.\n",
    "mcx_settings = load_mcx_settings(settings)\n",
    "dimension = tuple(mcx_settings[\"Domain\"][\"Dim\"])\n",
    "volume = np.fromfile(volfile, dtype=\"uint8\").reshape(dimension + (-1,), order=\"F\")\n",
    "vessel_roi = volume[:, 100, :, 0]==4"
   ]
  },
  {
   "cell_type": "code",
   "execution_count": null,
   "metadata": {},
   "outputs": [
    {
     "name": "stdout",
     "output_type": "stream",
     "text": [
      "0.0001\n",
      "0.01\n",
      "0.03\n"
     ]
    }
   ],
   "source": [
    "ms_results = []\n",
    "# Define in the independent variable which is varied in the experiment.\n",
    "variable = \"Melanin\"\n",
    "labels = parameters[variable].unique()\n",
    "Nx = 200\n",
    "Ny = 200\n",
    "for dep_variable in labels:\n",
    "    print(dep_variable)\n",
    "    selection = parameters[parameters[variable] == dep_variable]\n",
    "    test = np.zeros((Nx, Ny, 21), order=\"F\")\n",
    "    for i, result_file in enumerate(selection[\"OutputFile\"]):\n",
    "        root, __ = os.path.splitext(result_file)\n",
    "        file = root + \".mat\"\n",
    "        fov = FieldOfView2D(-0.006, 0.006, -0.006,0.006, Nx, Ny)\n",
    "        pa = lk.load_kwave(file)\n",
    "        test[:, :, i] = circle_backproject(pa, 1500, fov,as_single=False).T/1e16\n",
    "    ms_results.append(test)"
   ]
  },
  {
   "cell_type": "code",
   "execution_count": null,
   "metadata": {},
   "outputs": [],
   "source": [
    "#### Load the basis spectra\n",
    "wavelengths = parameters[\"Wavelength\"].unique()\n",
    "hb = blood_mu_a(wavelengths, 0, water = False)\n",
    "hbo2 = blood_mu_a(wavelengths, 1, water = False)\n",
    "water = water_mu_a(wavelengths)\n",
    "melanin = melanosome_mu_a(wavelengths)\n",
    "test = np.ones_like(wavelengths)\n",
    "\n",
    "# Calculate the forward and (pseudo)-inverse matrices\n",
    "#spectra_matrix = np.array([hb, hbo2, water, melanin]).T\n",
    "spectra_matrix = np.array([hb, hbo2, water, melanin]).T\n",
    "inv_matrix = np.linalg.pinv(spectra_matrix)\n",
    "\n",
    "# Apply the unmixing matrix\n",
    "unmixed = [np.dot(result, inv_matrix.T) for result in ms_results]\n",
    "so2 = [M[:, :, 1]/(M[:, :, 1] + M[:, :, 0]) for M in unmixed]\n",
    "THb = [M[:, :, 1]+M[:, :, 0] for M in unmixed]"
   ]
  },
  {
   "cell_type": "code",
   "execution_count": null,
   "metadata": {},
   "outputs": [],
   "source": [
    "n=0\n",
    "# SO2\n",
    "plt.imshow(so2[n].T, cmap=\"YlOrRd\", clim=(-1,2))\n",
    "plt.colorbar()\n",
    "plt.axis(\"off\")\n",
    "plt.tight_layout()\n",
    "plt.savefig(\"../FiguresOutput/acoustic_so2.png\")\n",
    "plt.show()\n",
    "plt.plot(so2[n][100,:])\n",
    "plt.ylim([0,1])\n",
    "plt.show()\n",
    "# HbO2\n",
    "plt.imshow(unmixed[n][:, :, 1].T, cmap=\"Reds\")\n",
    "plt.colorbar()\n",
    "plt.axis(\"off\")\n",
    "plt.tight_layout()\n",
    "plt.savefig(\"../FiguresOutput/acoustic_hb02.png\")\n",
    "plt.show()\n",
    "# Hb\n",
    "plt.imshow(unmixed[n][:, :, 0].T, cmap=\"Purples\")\n",
    "plt.colorbar()\n",
    "plt.axis(\"off\")\n",
    "plt.tight_layout()\n",
    "plt.savefig(\"../FiguresOutput/acoustic_hb.png\")\n",
    "plt.show()\n",
    "# Water\n",
    "plt.imshow(unmixed[n][:, :, 2].T, cmap=\"Blues\")\n",
    "plt.colorbar()\n",
    "plt.axis(\"off\")\n",
    "plt.tight_layout()\n",
    "plt.savefig(\"../FiguresOutput/acoustic_water.png\")\n",
    "plt.show()\n",
    "# Melanin\n",
    "plt.imshow(unmixed[n][:, :, 3].T, cmap=\"Oranges\")\n",
    "plt.colorbar()\n",
    "plt.axis(\"off\")\n",
    "plt.tight_layout()\n",
    "plt.savefig(\"../FiguresOutput/acoustic_melanin.png\")\n",
    "plt.show()"
   ]
  },
  {
   "cell_type": "code",
   "execution_count": null,
   "metadata": {},
   "outputs": [],
   "source": [
    "plt.hist(so2[n][vessel_roi], range = (0,1), bins=100)\n",
    "plt.xlabel(\"$SO_2$\")\n",
    "plt.ylabel(\"Count\")\n",
    "plt.axvline(0.9, c=\"red\")\n",
    "plt.tight_layout()\n",
    "plt.savefig(\"../FiguresOutput/acoustic_so02_hist.png\")\n",
    "plt.show()"
   ]
  }
 ],
 "metadata": {
  "kernelspec": {
   "display_name": "Python 3",
   "language": "python",
   "name": "python3"
  },
  "language_info": {
   "codemirror_mode": {
    "name": "ipython",
    "version": 3
   },
   "file_extension": ".py",
   "mimetype": "text/x-python",
   "name": "python",
   "nbconvert_exporter": "python",
   "pygments_lexer": "ipython3",
   "version": "3.7.6"
  }
 },
 "nbformat": 4,
 "nbformat_minor": 4
}
